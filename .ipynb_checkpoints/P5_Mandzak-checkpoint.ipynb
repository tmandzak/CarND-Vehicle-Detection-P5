{
 "cells": [
  {
   "cell_type": "code",
   "execution_count": 1,
   "metadata": {
    "collapsed": true
   },
   "outputs": [],
   "source": [
    "%matplotlib inline"
   ]
  },
  {
   "cell_type": "code",
   "execution_count": 2,
   "metadata": {},
   "outputs": [],
   "source": [
    "%run -n VehicleDetection.py"
   ]
  },
  {
   "cell_type": "code",
   "execution_count": 3,
   "metadata": {},
   "outputs": [],
   "source": [
    "vehicleDetection = VehicleDetection(color_space = 'YCrCb', # Color space base for features\n",
    "                                    spatial_size = (8, 8), # Spatial binning dimensions\n",
    "                                    hist_bins = 32,    # Number of histogram bins\n",
    "                                    orient = 9,  # HOG orientations\n",
    "                                    pix_per_cell = 8, # HOG pixels per cell\n",
    "                                    cell_per_block = 2, # HOG cells per block\n",
    "                                    spatial_feat = True, # Spatial features on or off\n",
    "                                    hist_feat = True, # Histogram features on or off\n",
    "                                    hog_feat = True, # HOG features on or off\n",
    "                                    x_start_stop= [400, None], # Min and max in x to search in slide_window()\n",
    "                                    y_start_stop = [400, 656], # Min and max in y to search in slide_window()\n",
    "                                    test_images = 'test_images/*.jpg', # Test images\n",
    "                                    train_cars = '../images/vehicles_smallset/**/*.jpeg', # Initialize training cars images\n",
    "                                    train_notcars = '../images/non-vehicles_smallset/**/*.jpeg') # Initialize training non cars images"
   ]
  },
  {
   "cell_type": "raw",
   "metadata": {},
   "source": [
    "experiment_images = [cv2.cvtColor(cv2.imread(img), cv2.COLOR_BGR2RGB) for img in glob.glob('experiments/*.png')]"
   ]
  },
  {
   "cell_type": "raw",
   "metadata": {},
   "source": [
    "vehicleDetection._draw_images(vehicleDetection.test_images)"
   ]
  },
  {
   "cell_type": "raw",
   "metadata": {},
   "source": [
    "vehicleDetection._draw_images(experiment_images)"
   ]
  },
  {
   "cell_type": "raw",
   "metadata": {},
   "source": [
    "vehicleDetection.draw_test_images_pipeline()"
   ]
  },
  {
   "cell_type": "raw",
   "metadata": {},
   "source": [
    "vehicleDetection.draw_test_images_colorspaces(color_spaces = ['HSV', 'LUV', 'HLS', 'YUV', 'YCrCb'], layer=1)"
   ]
  },
  {
   "cell_type": "raw",
   "metadata": {},
   "source": [
    "vehicleDetection.draw_test_images_colorspaces(color_spaces = ['LUV'])"
   ]
  },
  {
   "cell_type": "raw",
   "metadata": {
    "collapsed": true
   },
   "source": [
    "vehicleDetection.draw_test_images_hog(test_images = experiment_images, cspace='H(L)S')"
   ]
  },
  {
   "cell_type": "raw",
   "metadata": {},
   "source": [
    "vehicleDetection.draw_sliding_windows()"
   ]
  },
  {
   "cell_type": "code",
   "execution_count": 5,
   "metadata": {
    "collapsed": true
   },
   "outputs": [],
   "source": [
    "vehicleDetection.train()"
   ]
  },
  {
   "cell_type": "code",
   "execution_count": null,
   "metadata": {
    "collapsed": true
   },
   "outputs": [],
   "source": []
  },
  {
   "cell_type": "code",
   "execution_count": null,
   "metadata": {
    "collapsed": true
   },
   "outputs": [],
   "source": []
  },
  {
   "cell_type": "raw",
   "metadata": {},
   "source": [
    "\n",
    "\n",
    "# Select a small fraction of pixels to plot by subsampling it\n",
    "scale = max(img.shape[0], img.shape[1], 64) / 64  # at most 64 rows and columns\n",
    "img_small = cv2.resize(img, (np.int(img.shape[1] / scale), np.int(img.shape[0] / scale)), interpolation=cv2.INTER_NEAREST)\n",
    "\n",
    "# Convert subsampled image to desired color space(s)\n",
    "img_small_RGB = cv2.cvtColor(img_small, cv2.COLOR_BGR2RGB)  # OpenCV uses BGR, matplotlib likes RGB\n",
    "img_small_HSV = cv2.cvtColor(img_small, cv2.COLOR_BGR2HSV)\n",
    "img_small_HLS = cv2.cvtColor(img_small, cv2.COLOR_BGR2HLS)\n",
    "\n",
    "img_small_rgb = img_small_RGB / 255.  # scaled to [0, 1], only for plotting\n",
    "\n",
    "# Plot and show\n",
    "vehicleDetection.draw_plot3d(img_small_HSV, img_small_rgb, axis_labels=list(\"HSV\"))"
   ]
  },
  {
   "cell_type": "raw",
   "metadata": {},
   "source": [
    "vehicleDetection.draw_plot3d(img_small_HLS, img_small_rgb, axis_labels=list(\"HLS\"))"
   ]
  },
  {
   "cell_type": "code",
   "execution_count": null,
   "metadata": {
    "collapsed": true
   },
   "outputs": [],
   "source": []
  }
 ],
 "metadata": {
  "kernelspec": {
   "display_name": "Python 3",
   "language": "python",
   "name": "python3"
  },
  "language_info": {
   "codemirror_mode": {
    "name": "ipython",
    "version": 3
   },
   "file_extension": ".py",
   "mimetype": "text/x-python",
   "name": "python",
   "nbconvert_exporter": "python",
   "pygments_lexer": "ipython3",
   "version": "3.5.2"
  },
  "widgets": {
   "state": {},
   "version": "1.1.2"
  }
 },
 "nbformat": 4,
 "nbformat_minor": 2
}
